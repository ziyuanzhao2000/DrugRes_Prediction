{
 "cells": [
  {
   "cell_type": "code",
   "execution_count": 3,
   "metadata": {},
   "outputs": [],
   "source": [
    "from tdc.multi_pred import DrugRes\n",
    "import numpy as np\n",
    "import matplotlib.pyplot as plot\n",
    "import torch\n",
    "from torch.utils.data import TensorDataset, DataLoader\n",
    "from tqdm import tqdm\n"
   ]
  },
  {
   "cell_type": "code",
   "execution_count": 65,
   "metadata": {},
   "outputs": [],
   "source": [
    "class LogisticRegression(torch.nn.Module):\n",
    "    def __init__(self, input_dim, output_dim):\n",
    "        super().__init__()\n",
    "        self.linear = torch.nn.Linear(input_dim, output_dim)\n",
    "    def forward(self, x):\n",
    "        return self.linear(x)\n",
    "    \n",
    "\n",
    "def train_loop(dataloader, model, loss_fn, optimizer):\n",
    "    train_loss = 0\n",
    "    for batch, (X, y) in enumerate(dataloader):\n",
    "        pred = model(X.float())\n",
    "        loss = loss_fn(pred, y.float())\n",
    "        train_loss += loss\n",
    "        optimizer.zero_grad()\n",
    "        loss.backward()\n",
    "        optimizer.step()\n",
    "    return train_loss / len(dataloader)\n",
    "\n",
    "def test_loop(dataloader, model, loss_fn):\n",
    "    test_loss = 0\n",
    "    with torch.no_grad():\n",
    "        for X, y in dataloader:\n",
    "            pred = model(X.float())\n",
    "            test_loss += loss_fn(pred, y.float()).item()\n",
    "    return test_loss / len(dataloader)\n",
    "    "
   ]
  },
  {
   "cell_type": "code",
   "execution_count": 114,
   "metadata": {},
   "outputs": [],
   "source": [
    "class Drug():\n",
    "    def __init__(self, drug_id, drug_smiles):\n",
    "        self.id = drug_id\n",
    "        self.smiles = drug_smiles\n",
    "#         self.train_dataloader = train_dataloader\n",
    "#         self.test_dataloader = test_dataloader\n",
    "    \n",
    "class Model():\n",
    "    def __init__(self):\n",
    "        data = DrugRes(name = 'GDSC1')\n",
    "        split = data.get_split()\n",
    "        self.train = split['train']\n",
    "        self.test = split['test']\n",
    "        self.valid = split['valid']\n",
    "        self.drug_IDs = self.train['Drug_ID'].unique()\n",
    "        assert(set(self.test['Drug_ID'].unique().flatten()) == \\\n",
    "               set(self.drug_IDs.flatten())) # make sure train, test set involves same set of drugs\n",
    "        \n",
    "        self.drugs = {}\n",
    "        self.submodels = {}\n",
    "        self.batch_size = 256\n",
    "            \n",
    "        \n",
    "    def train_all_submodels(self):\n",
    "        epochs = 1e5\n",
    "        lr = 1e-7\n",
    "        loss_fn = torch.nn.MSELoss()\n",
    "        print(\"Initializing and training submodel for each drug\")\n",
    "        for ID in tqdm(self.drug_IDs):\n",
    "            train_X = torch.from_numpy(np.vstack(self.train[self.train['Drug_ID']==ID]['Cell Line'].to_numpy()))\n",
    "            train_Y = torch.from_numpy(np.vstack(self.train[self.train['Drug_ID']==ID]['Y'].to_numpy()))\n",
    "            test_X = torch.from_numpy(np.vstack(self.test[self.test['Drug_ID']==ID]['Cell Line'].to_numpy()))\n",
    "            test_Y = torch.from_numpy(np.vstack(self.test[self.test['Drug_ID']==ID]['Y'].to_numpy()))\n",
    "            self.drugs[ID] = Drug(ID, None)  \n",
    "            self.submodels[ID] = LogisticRegression(train_X.shape[1], 1).to('cpu')\n",
    "            optimizer = torch.optim.Adam(self.submodels[ID].parameters(), lr=lr)\n",
    "            train_dataloader = DataLoader(TensorDataset(train_X, train_Y),\\\n",
    "                                               self.batch_size, shuffle = True)\n",
    "            test_dataloader = DataLoader(TensorDataset(test_X, test_Y),\\\n",
    "                                              self.batch_size, shuffle = True)\n",
    "            train_loss, test_loss = [100], [100]\n",
    "            counter = 0\n",
    "            for t in range(epochs):\n",
    "                train_l = train_loop(train_dataloader, self.submodels[ID], loss_fn, optimizer)\n",
    "                test_l = test_loop(test_dataloader, self.submodels[ID], loss_fn)\n",
    "                if (t + 1) % 100 == 0:\n",
    "                    print(f\"Epoch {t+1}\\n-------------------------------\")\n",
    "                    train_loss.append(train_l)\n",
    "                    test_loss.append(test_l)\n",
    "                    print(f\"Avg train loss: {train_loss[-1]:.8f}\")\n",
    "                    print(f\"Avg test loss: {test_loss[-1]:.8f}\")\n",
    "                    if test_loss[-1] >= test_loss[-2]: # simple early stopping\n",
    "                        counter+=1\n",
    "                    else:\n",
    "                        counter=max(0, counter-1)\n",
    "                    if counter>=3:\n",
    "                        break\n",
    "    def evaluate(criterion = 'MSE'):\n",
    "        if criterion == 'MAE':\n",
    "            loss_fn = torch.nn.L1Loss()\n",
    "        elif criterion == 'MSE':\n",
    "            loss_fn = torch.nn.MSELoss()\n",
    "        \n",
    "        total_loss = 0\n",
    "        valid_X = self.valid['Cell Line'].to_numpy()\n",
    "        valid_Y = self.valid['Y'].to_numpy()\n",
    "        valid_IDs = self.valid['Drug_ID'].to_numpy()\n",
    "        for X, y, ID in zip(valid_X, valid_Y, valid_IDs):\n",
    "            pred = self.submodels[ID](torch.from_numpy(X).float)\n",
    "            total_loss += loss_fn(pred, torch.from_numpy(y).float()).item()\n",
    "        return total_loss / len(valid_X)"
   ]
  },
  {
   "cell_type": "code",
   "execution_count": null,
   "metadata": {
    "scrolled": true
   },
   "outputs": [],
   "source": [
    "model = Model()\n",
    "model.train_all_submodels()"
   ]
  },
  {
   "cell_type": "code",
   "execution_count": 140,
   "metadata": {},
   "outputs": [
    {
     "name": "stdout",
     "output_type": "stream",
     "text": [
      "1.8911321830559649\n"
     ]
    }
   ],
   "source": [
    "loss_fn = torch.nn.MSELoss()\n",
    "valid_X = model.valid['Cell Line'].to_numpy()\n",
    "valid_Y = model.valid['Y'].to_numpy()\n",
    "valid_IDs = model.valid['Drug_ID'].to_numpy()\n",
    "counter = 0\n",
    "total_loss = 0\n",
    "for X, y, ID in zip(valid_X, valid_Y, valid_IDs):\n",
    "    if ID in model.submodels:\n",
    "        counter += 1\n",
    "        pred = model.submodels[ID](torch.from_numpy(X).float())\n",
    "        total_loss += loss_fn(pred, torch.from_numpy(np.asarray(y)).float()).item()\n",
    "\n",
    "avg_loss = total_loss / counter\n",
    "print(avg_loss)\n",
    "\n",
    "\n",
    "\n"
   ]
  },
  {
   "cell_type": "code",
   "execution_count": null,
   "metadata": {},
   "outputs": [],
   "source": []
  }
 ],
 "metadata": {
  "kernelspec": {
   "display_name": "Python [conda env:drugres]",
   "language": "python",
   "name": "conda-env-drugres-py"
  },
  "language_info": {
   "codemirror_mode": {
    "name": "ipython",
    "version": 3
   },
   "file_extension": ".py",
   "mimetype": "text/x-python",
   "name": "python",
   "nbconvert_exporter": "python",
   "pygments_lexer": "ipython3",
   "version": "3.9.7"
  }
 },
 "nbformat": 4,
 "nbformat_minor": 4
}
